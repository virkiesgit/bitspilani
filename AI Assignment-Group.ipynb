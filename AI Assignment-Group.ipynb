{
 "cells": [
  {
   "cell_type": "markdown",
   "metadata": {},
   "source": [
    "<center><h1> Artifical and Computational Intelligence Assignment 1 </h1></center>\n",
    " \n",
    "Problem Solving by using A*\n",
    "\n",
    "Weightage: 13%\n",
    "\n",
    "Date of Posting - 09/Dec/2019\n",
    "\n",
    "Deadline - 24/Dec/2019"
   ]
  },
  {
   "cell_type": "markdown",
   "metadata": {},
   "source": [
    "Please Enter group and Individual information below:\n",
    "\n",
    "Group ID/Number:\n",
    "\n",
    "Group Members BITS ID:"
   ]
  },
  {
   "cell_type": "markdown",
   "metadata": {},
   "source": [
    "<h3>Things to Follow</h3>\n",
    "\n",
    "1. Use appropriate data structures for the fringes and explain the reasoning behind the usage. You need not create data structures, instead use available libraries directly.\n",
    "\n",
    "2. Avoid any hard-coding unless absolutely necessary.\n",
    "\n",
    "3. Provide proper documentation\n",
    "\n",
    "4. Read the question file provided carefully and attempt all the questions! "
   ]
  },
  {
   "cell_type": "markdown",
   "metadata": {},
   "source": [
    "Coding begins now!!!"
   ]
  },
  {
   "cell_type": "markdown",
   "metadata": {},
   "source": [
    "1) Define the environment representation in the following code block"
   ]
  },
  {
   "cell_type": "code",
   "execution_count": 93,
   "metadata": {},
   "outputs": [],
   "source": [
    "#Environment representation goes here\n"
   ]
  },
  {
   "cell_type": "markdown",
   "metadata": {},
   "source": [
    "Define the haversine formula and what it does"
   ]
  },
  {
   "cell_type": "code",
   "execution_count": 114,
   "metadata": {},
   "outputs": [],
   "source": [
    "#defining the haversine formula \n",
    "import numpy as np\n",
    "from math import radians, cos, sin, asin, sqrt\n",
    "\n",
    "def haversine(lon1, lat1, lon2, lat2):\n",
    "    #Great circle distance between two points on the earth (specified in degrees)\n",
    "    # convert decimal degrees to radians \n",
    "    lon1, lat1, lon2, lat2 = map(radians, [lon1, lat1, lon2, lat2])\n",
    "    # haversine formula \n",
    "    dlon = lon2 - lon1 \n",
    "    dlat = lat2 - lat1 \n",
    "    a = sin(dlat/2)**2 + cos(lat1) * cos(lat2) * sin(dlon/2)**2\n",
    "    c = 2 * asin(sqrt(a)) \n",
    "    r = 6371 # Radius of earth in kilometers\n",
    "    return c * r"
   ]
  },
  {
   "cell_type": "markdown",
   "metadata": {},
   "source": [
    "2) Define a function which calculates the heuristic distance from each city to the destination city in the following code block"
   ]
  },
  {
   "cell_type": "code",
   "execution_count": 115,
   "metadata": {},
   "outputs": [
    {
     "name": "stdout",
     "output_type": "stream",
     "text": [
      "744.0351557019155\n",
      "468.7090788152219\n",
      "586.9476757845566\n",
      "427.4793247479098\n",
      "110.33441493944744\n",
      "388.599828847867\n",
      "528.508520052874\n",
      "290.1720249530604\n",
      "154.2976211368278\n",
      "0.0\n"
     ]
    }
   ],
   "source": [
    "#Function for calculating distance from each node/city to Destination\n",
    "#   City Latitude Longitude\n",
    "#Raichur 16.2076° N 77.3463° E\n",
    "#Mangalore 12.9141° N 74.8560° E\n",
    "#Bellari 15.1394° N 76.9214° E\n",
    "#Tirupati 13.6288° N 79.4192° E\n",
    "#Kurnool 15.8281° N 78.0373° E\n",
    "#Kozhikode 11.2588° N 75.7804° E\n",
    "#Bangalore 12.9716° N 77.5946° E\n",
    "#Nellore 14.4426° N 79.9865° E\n",
    "#Chennai 13.0827° N 80.2707° E\n",
    "\n",
    "Panji_lat= 15.4909\n",
    "Panji_lon = 73.8278\n",
    "Raichur_lat= 16.2076\n",
    "Raichur_lon = 77.3463\n",
    "Mangalore_lat= 12.9141\n",
    "Mangalore_lon = 74.8560\n",
    "Bellari_lat= 15.1394\n",
    "Bellari_lon = 76.9214\n",
    "Tirupati_lat= 13.6288\n",
    "Tirupati_lon = 79.4192\n",
    "Kurnool_lat= 15.8281\n",
    "Kurnool_lon = 78.0373\n",
    "Kozhikode_lat= 11.2588\n",
    "Kozhikode_lon = 75.7804\n",
    "Bangalore_lat= 12.9716\n",
    "Bangalore_lon = 77.5946\n",
    "Nellore_lat= 14.4426\n",
    "Nellore_lon = 79.9865\n",
    "Chennai_lat= 13.0827\n",
    "Chennai_lon = 80.2707\n",
    "\n",
    "distance = haversine(Panji_lon, Panji_lat, Chennai_lon, Chennai_lat)\n",
    "print(distance)\n",
    "distance1 = haversine(Raichur_lon, Raichur_lat, Chennai_lon, Chennai_lat)\n",
    "print(distance1)\n",
    "distance2 = haversine(Mangalore_lon, Mangalore_lat, Chennai_lon, Chennai_lat)\n",
    "print(distance2)\n",
    "distance3 = haversine(Bellari_lon, Bellari_lat, Chennai_lon, Chennai_lat)\n",
    "print(distance3)\n",
    "distance4 = haversine(Tirupati_lon, Tirupati_lat, Chennai_lon, Chennai_lat)\n",
    "print(distance4)\n",
    "distance5 = haversine(Kurnool_lon, Kurnool_lat, Chennai_lon, Chennai_lat)\n",
    "print(distance5)\n",
    "distance6 = haversine(Kozhikode_lon, Kozhikode_lat, Chennai_lon, Chennai_lat)\n",
    "print(distance6)\n",
    "distance7 = haversine(Bangalore_lon, Bangalore_lat, Chennai_lon, Chennai_lat)\n",
    "print(distance7)\n",
    "distance8 = haversine(Nellore_lon, Nellore_lat, Chennai_lon, Chennai_lat)\n",
    "print(distance8)\n",
    "distance9 = haversine(Chennai_lon, Chennai_lat, Chennai_lon, Chennai_lat)\n",
    "print(distance9)\n"
   ]
  },
  {
   "cell_type": "code",
   "execution_count": 119,
   "metadata": {},
   "outputs": [],
   "source": [
    "#Code Block 2 ..\n"
   ]
  },
  {
   "cell_type": "markdown",
   "metadata": {},
   "source": [
    "3) Implementation of A* Algorithm . Feel free to add code blocks for each methods needed starting here.\n",
    "Please modularize the implementation of A* and write each of them in a code block. "
   ]
  },
  {
   "cell_type": "code",
   "execution_count": 106,
   "metadata": {},
   "outputs": [],
   "source": [
    "#Code Block 1\n",
    "from collections import deque\n",
    "\n",
    "class Graph:\n",
    "    def __init__(self, adjacency_list):\n",
    "        self.adjacency_list = adjacency_list\n",
    "\n",
    "    def get_neighbors(self, v):\n",
    "        return self.adjacency_list[v]\n",
    "\n",
    "    # heuristic function with equal values for all nodes\n",
    "    def h(self, n):\n",
    "        H = {\n",
    "            'Panji':haversine(Panji_lon, Panji_lat, Chennai_lon, Chennai_lat),\n",
    "            'Raichur':haversine(Raichur_lon, Raichur_lat, Chennai_lon, Chennai_lat) ,\n",
    "            'Mangalore':haversine(Mangalore_lon, Mangalore_lat, Chennai_lon, Chennai_lat) ,\n",
    "            'Bellari':haversine(Bellari_lon, Bellari_lat, Chennai_lon, Chennai_lat) ,\n",
    "            'Tirupati':haversine(Tirupati_lon, Tirupati_lat, Chennai_lon, Chennai_lat) ,\n",
    "            'Kurnool':haversine(Kurnool_lon, Kurnool_lat, Chennai_lon, Chennai_lat) ,\n",
    "            'Kozhikode':haversine(Kozhikode_lon, Kozhikode_lat, Chennai_lon, Chennai_lat) ,\n",
    "            'Bangalore':haversine(Bangalore_lon, Bangalore_lat, Chennai_lon, Chennai_lat) ,\n",
    "            'Nellore':haversine(Nellore_lon, Nellore_lat, Chennai_lon, Chennai_lat) ,\n",
    "            'Chennai':haversine(Chennai_lon, Chennai_lat, Chennai_lon, Chennai_lat) \n",
    "    \n",
    "        }\n",
    "\n",
    "    \n",
    "        return H[n]\n",
    "\n",
    "    def a_star_algorithm(self, start_node, stop_node):\n",
    "        # open_list is a list of nodes which have been visited, but who's neighbors\n",
    "        # haven't all been inspected, starts off with the start node\n",
    "        # closed_list is a list of nodes which have been visited\n",
    "        # and who's neighbors have been inspected\n",
    "        open_list = set([start_node])\n",
    "        closed_list = set([])\n",
    "\n",
    "        # g contains current distances from start_node to all other nodes\n",
    "        # the default value (if it's not found in the map) is +infinity\n",
    "        g = {}\n",
    "\n",
    "        g[start_node] = 0\n",
    "\n",
    "        # parents contains an adjacency map of all nodes\n",
    "        parents = {}\n",
    "        parents[start_node] = start_node\n",
    "\n",
    "        while len(open_list) > 0:\n",
    "            n = None\n",
    "\n",
    "            # find a node with the lowest value of f() - evaluation function\n",
    "            for v in open_list:\n",
    "                if n == None or g[v] + self.h(v) < g[n] + self.h(n):\n",
    "                    n = v;\n",
    "\n",
    "            if n == None:\n",
    "                print('Path does not exist!')\n",
    "                return None\n",
    "\n",
    "            # if the current node is the stop_node\n",
    "            # then we begin reconstructin the path from it to the start_node\n",
    "            if n == stop_node:\n",
    "                reconst_path = []\n",
    "\n",
    "                while parents[n] != n:\n",
    "                    reconst_path.append(n)\n",
    "                    n = parents[n]\n",
    "\n",
    "                reconst_path.append(start_node)\n",
    "\n",
    "                reconst_path.reverse()\n",
    "\n",
    "                print('Path found: {}'.format(reconst_path))\n",
    "                return reconst_path\n",
    "\n",
    "            # for all neighbors of the current node do\n",
    "            for (m, weight) in self.get_neighbors(n):\n",
    "                # if the current node isn't in both open_list and closed_list\n",
    "                # add it to open_list and note n as it's parent\n",
    "                if m not in open_list and m not in closed_list:\n",
    "                    open_list.add(m)\n",
    "                    parents[m] = n\n",
    "                    g[m] = g[n] + weight\n",
    "\n",
    "                # otherwise, check if it's quicker to first visit n, then m\n",
    "                # and if it is, update parent data and g data\n",
    "                # and if the node was in the closed_list, move it to open_list\n",
    "                else:\n",
    "                    if g[m] > g[n] + weight:\n",
    "                        g[m] = g[n] + weight\n",
    "                        parents[m] = n\n",
    "\n",
    "                        if m in closed_list:\n",
    "                            closed_list.remove(m)\n",
    "                            open_list.add(m)\n",
    "\n",
    "            # remove n from the open_list, and add it to closed_list\n",
    "            # because all of his neighbors were inspected\n",
    "            open_list.remove(n)\n",
    "            closed_list.add(n)\n",
    "\n",
    "        print('Path does not exist!')\n",
    "        return None\n",
    "        \n"
   ]
  },
  {
   "cell_type": "code",
   "execution_count": 107,
   "metadata": {},
   "outputs": [],
   "source": [
    "#Code Block 2 .. "
   ]
  },
  {
   "cell_type": "markdown",
   "metadata": {},
   "source": [
    "Call your main function/algorithm block in the next code block with appropriate input representation"
   ]
  },
  {
   "cell_type": "code",
   "execution_count": 108,
   "metadata": {},
   "outputs": [],
   "source": [
    "adjacency_list = {\n",
    "    'Panji': [('Bellari', 409), ('Mangalore', 365), ('Raichur', 457)],\n",
    "    'Raichur': [('Kurnool', 100), ('Tirupati', 453), ('Panji', 457)],\n",
    "    'Bellari': [('Panji', 409), ('Bangalore', 311), ('Tirupati', 379)],\n",
    "    'Mangalore': [('Panji', 365), ('Bangalore', 352), ('Kozhikode', 233)],\n",
    "    'Kozhikode': [('Mangalore', 233), ('Bangalore', 356)],\n",
    "    'Bangalore': [('Bellari', 311), ('Mangalore', 352), ('Kozhikode',356)],\n",
    "    'Chennai': [('Tirupati', 153), ('Bangalore', 346), ('Nellore', 175)],\n",
    "    'Nellore': [('Chennai', 175), ('Tirupati', 136), ('Kurnool', 325)],\n",
    "    'Tirupati': [('Nellore', 136), ('Chennai', 153), ('Raichur', 453), ('Bellari', 379), ('Kurnool', 340)],\n",
    "    'Kurnool': [('Tirupati', 340), ('Nellore', 325), ('Raichur', 100)],\n",
    "\n",
    "}\n"
   ]
  },
  {
   "cell_type": "markdown",
   "metadata": {},
   "source": [
    "The agent should provide expected output for questions mentioned below in the subsequent blocks"
   ]
  },
  {
   "cell_type": "markdown",
   "metadata": {},
   "source": [
    "(3.1) Path taken to reach destination from Panaji"
   ]
  },
  {
   "cell_type": "code",
   "execution_count": 124,
   "metadata": {},
   "outputs": [
    {
     "name": "stdout",
     "output_type": "stream",
     "text": [
      "Path found: ['Bangalore', 'Bellari', 'Tirupati', 'Chennai']\n"
     ]
    },
    {
     "data": {
      "text/plain": [
       "['Bangalore', 'Bellari', 'Tirupati', 'Chennai']"
      ]
     },
     "execution_count": 124,
     "metadata": {},
     "output_type": "execute_result"
    }
   ],
   "source": [
    "# Execute statement to retrieve the path taken here\n",
    "graph1 = Graph(adjacency_list)\n",
    "#print(graph1.get_neighbors ('Panji'))\n",
    "#print(graph1.h('Bangalore'))\n",
    "graph1.a_star_algorithm('Bangalore', 'Chennai')\n"
   ]
  },
  {
   "cell_type": "markdown",
   "metadata": {},
   "source": [
    "(3.2) Cost of the path"
   ]
  },
  {
   "cell_type": "code",
   "execution_count": 8,
   "metadata": {},
   "outputs": [],
   "source": [
    "# Execute statement to retrieve the cost of the path here\n"
   ]
  },
  {
   "cell_type": "markdown",
   "metadata": {},
   "source": [
    "(3.3) Total Number of nodes vistied to get this state"
   ]
  },
  {
   "cell_type": "code",
   "execution_count": 9,
   "metadata": {},
   "outputs": [],
   "source": [
    "# Execute statement to retrieve the total number of nodes visited to get this state here\n"
   ]
  },
  {
   "cell_type": "code",
   "execution_count": 10,
   "metadata": {},
   "outputs": [
    {
     "name": "stdout",
     "output_type": "stream",
     "text": [
      "[(0, 0), (1, 1), (2, 2), (3, 3), (4, 3), (5, 4), (6, 5), (7, 6)]\n"
     ]
    }
   ],
   "source": [
    "class Node():\n",
    "    \"\"\"A node class for A* Pathfinding\"\"\"\n",
    "\n",
    "    def __init__(self, parent=None, position=None):\n",
    "        self.parent = parent\n",
    "        self.position = position\n",
    "\n",
    "        self.g = 0\n",
    "        self.h = 0\n",
    "        self.f = 0\n",
    "\n",
    "    def __eq__(self, other):\n",
    "        return self.position == other.position\n",
    "\n",
    "\n",
    "def astar(maze, start, end):\n",
    "    \"\"\"Returns a list of tuples as a path from the given start to the given end in the given maze\"\"\"\n",
    "\n",
    "    # Create start and end node\n",
    "    start_node = Node(None, start)\n",
    "    start_node.g = start_node.h = start_node.f = 0\n",
    "    end_node = Node(None, end)\n",
    "    end_node.g = end_node.h = end_node.f = 0\n",
    "\n",
    "    # Initialize both open and closed list\n",
    "    open_list = []\n",
    "    closed_list = []\n",
    "\n",
    "    # Add the start node\n",
    "    open_list.append(start_node)\n",
    "\n",
    "    # Loop until you find the end\n",
    "    while len(open_list) > 0:\n",
    "\n",
    "        # Get the current node\n",
    "        current_node = open_list[0]\n",
    "        current_index = 0\n",
    "        for index, item in enumerate(open_list):\n",
    "            if item.f < current_node.f:\n",
    "                current_node = item\n",
    "                current_index = index\n",
    "\n",
    "        # Pop current off open list, add to closed list\n",
    "        open_list.pop(current_index)\n",
    "        closed_list.append(current_node)\n",
    "\n",
    "        # Found the goal\n",
    "        if current_node == end_node:\n",
    "            path = []\n",
    "            current = current_node\n",
    "            while current is not None:\n",
    "                path.append(current.position)\n",
    "                current = current.parent\n",
    "            return path[::-1] # Return reversed path\n",
    "\n",
    "        # Generate children\n",
    "        children = []\n",
    "        for new_position in [(0, -1), (0, 1), (-1, 0), (1, 0), (-1, -1), (-1, 1), (1, -1), (1, 1)]: # Adjacent squares\n",
    "\n",
    "            # Get node position\n",
    "            node_position = (current_node.position[0] + new_position[0], current_node.position[1] + new_position[1])\n",
    "\n",
    "            # Make sure within range\n",
    "            if node_position[0] > (len(maze) - 1) or node_position[0] < 0 or node_position[1] > (len(maze[len(maze)-1]) -1) or node_position[1] < 0:\n",
    "                continue\n",
    "\n",
    "            # Make sure walkable terrain\n",
    "            if maze[node_position[0]][node_position[1]] != 0:\n",
    "                continue\n",
    "\n",
    "            # Create new node\n",
    "            new_node = Node(current_node, node_position)\n",
    "\n",
    "            # Append\n",
    "            children.append(new_node)\n",
    "\n",
    "        # Loop through children\n",
    "        for child in children:\n",
    "\n",
    "            # Child is on the closed list\n",
    "            for closed_child in closed_list:\n",
    "                if child == closed_child:\n",
    "                    continue\n",
    "\n",
    "            # Create the f, g, and h values\n",
    "            child.g = current_node.g + 1\n",
    "            child.h = ((child.position[0] - end_node.position[0]) ** 2) + ((child.position[1] - end_node.position[1]) ** 2)\n",
    "            child.f = child.g + child.h\n",
    "\n",
    "            # Child is already in the open list\n",
    "            for open_node in open_list:\n",
    "                if child == open_node and child.g > open_node.g:\n",
    "                    continue\n",
    "\n",
    "            # Add the child to the open list\n",
    "            open_list.append(child)\n",
    "\n",
    "\n",
    "def main():\n",
    "\n",
    "    maze = [[0, 0, 0, 0, 1, 0, 0, 0, 0, 0],\n",
    "            [0, 0, 0, 0, 1, 0, 0, 0, 0, 0],\n",
    "            [0, 0, 0, 0, 1, 0, 0, 0, 0, 0],\n",
    "            [0, 0, 0, 0, 1, 0, 0, 0, 0, 0],\n",
    "            [0, 0, 0, 0, 1, 0, 0, 0, 0, 0],\n",
    "            [0, 0, 0, 0, 0, 0, 0, 0, 0, 0],\n",
    "            [0, 0, 0, 0, 1, 0, 0, 0, 0, 0],\n",
    "            [0, 0, 0, 0, 1, 0, 0, 0, 0, 0],\n",
    "            [0, 0, 0, 0, 1, 0, 0, 0, 0, 0],\n",
    "            [0, 0, 0, 0, 0, 0, 0, 0, 0, 0]]\n",
    "\n",
    "    start = (0, 0)\n",
    "    end = (7, 6)\n",
    "\n",
    "    path = astar(maze, start, end)\n",
    "    print(path)\n",
    "\n",
    "\n",
    "if __name__ == '__main__':\n",
    "    main()"
   ]
  },
  {
   "cell_type": "code",
   "execution_count": null,
   "metadata": {},
   "outputs": [],
   "source": [
    "    def h(self, n):\n",
    "        H = {\n",
    "            'Panji': 1,\n",
    "            'Raichur': 1,\n",
    "            'Bellari': 1,\n",
    "            'Mangalore': 1,\n",
    "            'Kozhikode': 1,\n",
    "            'Bangalore': 1,\n",
    "            'Chennai': 1,\n",
    "            'Nellore': 1,\n",
    "            'Tirupati': 1,\n",
    "            'Kurnool': 1,\n",
    "    \n",
    "        }\n",
    "\n",
    "        return H[n]\n",
    "    \n",
    "        def h(self, n):\n",
    "        H = {\n",
    "            'Panji':haversine(Panji_lon, Panji_lat, Chennai_lon, Chennai_lat),\n",
    "            'Raichur':haversine(Raichur_lon, Raichur_lat, Chennai_lon, Chennai_lat) ,\n",
    "            'Bellari':haversine(Bellari_lon, Bellari_lat, Chennai_lon, Chennai_lat) ,\n",
    "            'Mangalore':haversine(Mangalore_lon, Mangalore_lat, Chennai_lon, Chennai_lat) ,\n",
    "            'Kozhikode':haversine(Kozhikode_lon, Kozhikode_lat, Chennai_lon, Chennai_lat) ,\n",
    "            'Bangalore':haversine(Bangalore_lon, Bangalore_lat, Chennai_lon, Chennai_lat) ,\n",
    "            'Chennai':haversine(Chennai_lon, Chennai_lat, Chennai_lon, Chennai_lat) ,\n",
    "            'Nellore':haversine(Nellore_lon, Nellore_lat, Chennai_lon, Chennai_lat) ,\n",
    "            'Tirupati':haversine(Tirupati_lon, Tirupati_lat, Chennai_lon, Chennai_lat) ,\n",
    "            'Kurnool':haversine(Kurnool_lon, Kurnool_lat, Chennai_lon, Chennai_lat) ,\n",
    "    \n",
    "        }"
   ]
  },
  {
   "cell_type": "markdown",
   "metadata": {},
   "source": [
    "<center>All the best!! Happy Coding!!Let human intelligence prevail</center>\n",
    "<center>**********************************************************</center>"
   ]
  }
 ],
 "metadata": {
  "kernelspec": {
   "display_name": "Python 3",
   "language": "python",
   "name": "python3"
  },
  "language_info": {
   "codemirror_mode": {
    "name": "ipython",
    "version": 3
   },
   "file_extension": ".py",
   "mimetype": "text/x-python",
   "name": "python",
   "nbconvert_exporter": "python",
   "pygments_lexer": "ipython3",
   "version": "3.7.4"
  }
 },
 "nbformat": 4,
 "nbformat_minor": 2
}
