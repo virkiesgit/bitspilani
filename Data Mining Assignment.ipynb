{
 "cells": [
  {
   "cell_type": "code",
   "execution_count": 1,
   "metadata": {},
   "outputs": [],
   "source": [
    "# Load libraries\n",
    "import pandas\n",
    "from pandas.plotting import scatter_matrix\n",
    "import matplotlib.pyplot as plt\n",
    "from sklearn import model_selection\n",
    "from sklearn.metrics import classification_report\n",
    "from sklearn.metrics import confusion_matrix\n",
    "from sklearn.metrics import accuracy_score\n",
    "from sklearn.linear_model import LogisticRegression\n",
    "from sklearn.tree import DecisionTreeClassifier\n",
    "from sklearn.neighbors import KNeighborsClassifier\n",
    "from sklearn.discriminant_analysis import LinearDiscriminantAnalysis\n",
    "from sklearn.naive_bayes import GaussianNB\n",
    "from sklearn.svm import SVC\n",
    "import seaborn as sns\n",
    "from sklearn.preprocessing import LabelEncoder, OneHotEncoder\n",
    "import warnings\n",
    "warnings.filterwarnings(\"ignore\")\n",
    "import pydot"
   ]
  },
  {
   "cell_type": "code",
   "execution_count": 2,
   "metadata": {},
   "outputs": [],
   "source": [
    "from patsy import dmatrices\n",
    "import statsmodels.api as sm\n",
    "from statsmodels.stats.outliers_influence import variance_inflation_factor"
   ]
  },
  {
   "cell_type": "code",
   "execution_count": 3,
   "metadata": {},
   "outputs": [],
   "source": [
    "# Load dataset\n",
    "#names = ['id','age','sex','region','income','married','children','car','saving_acc','current_acc','mortgage','loan']\n",
    "dataset = pandas.read_csv('./bank_data.csv')"
   ]
  },
  {
   "cell_type": "code",
   "execution_count": 4,
   "metadata": {},
   "outputs": [
    {
     "name": "stdout",
     "output_type": "stream",
     "text": [
      "(599, 12)\n"
     ]
    }
   ],
   "source": [
    "# shape - show dataset range \n",
    "print(dataset.shape)"
   ]
  },
  {
   "cell_type": "code",
   "execution_count": 5,
   "metadata": {},
   "outputs": [
    {
     "name": "stdout",
     "output_type": "stream",
     "text": [
      "        id  age     sex      region   income married  children  car  \\\n",
      "0  ID12102   40    MALE        TOWN  30085.1     YES         3  YES   \n",
      "1  ID12103   51  FEMALE  INNER_CITY  16575.4     YES         0  YES   \n",
      "2  ID12104   23  FEMALE        TOWN  20375.4     YES         3   NO   \n",
      "3  ID12105   57  FEMALE       RURAL  50576.3     YES         0   NO   \n",
      "4  ID12106   57  FEMALE        TOWN  37869.6     YES         2   NO   \n",
      "\n",
      "  saving_acc current_acc mortgage loan  \n",
      "0         NO         YES      YES   NO  \n",
      "1        YES         YES       NO   NO  \n",
      "2         NO         YES       NO   NO  \n",
      "3        YES          NO       NO   NO  \n",
      "4        YES         YES       NO  YES  \n"
     ]
    }
   ],
   "source": [
    "# head - print data headers\n",
    "print(dataset.head(5))"
   ]
  },
  {
   "cell_type": "code",
   "execution_count": 6,
   "metadata": {},
   "outputs": [
    {
     "name": "stdout",
     "output_type": "stream",
     "text": [
      "              age        income    children\n",
      "count  599.000000    599.000000  599.000000\n",
      "mean    42.385643  27540.689032    1.011686\n",
      "std     14.435181  12903.788885    1.057635\n",
      "min     18.000000   5014.210000    0.000000\n",
      "25%     30.000000  17258.900000    0.000000\n",
      "50%     42.000000  24946.600000    1.000000\n",
      "75%     55.500000  36179.150000    2.000000\n",
      "max     67.000000  63130.100000    3.000000\n"
     ]
    }
   ],
   "source": [
    "# descriptions - describe data - general stats\n",
    "print(dataset.describe())"
   ]
  },
  {
   "cell_type": "code",
   "execution_count": 7,
   "metadata": {},
   "outputs": [
    {
     "data": {
      "text/plain": [
       "id             0\n",
       "age            0\n",
       "sex            0\n",
       "region         0\n",
       "income         0\n",
       "married        0\n",
       "children       0\n",
       "car            0\n",
       "saving_acc     0\n",
       "current_acc    0\n",
       "mortgage       0\n",
       "loan           0\n",
       "dtype: int64"
      ]
     },
     "execution_count": 7,
     "metadata": {},
     "output_type": "execute_result"
    }
   ],
   "source": [
    "#identify columns with null values & number of rows with nulls for that column\n",
    "dataset.apply(lambda x: sum(x.isnull()),axis=0)"
   ]
  },
  {
   "cell_type": "code",
   "execution_count": 8,
   "metadata": {},
   "outputs": [
    {
     "name": "stdout",
     "output_type": "stream",
     "text": [
      "id              object\n",
      "age              int64\n",
      "sex             object\n",
      "region          object\n",
      "income         float64\n",
      "married         object\n",
      "children         int64\n",
      "car             object\n",
      "saving_acc      object\n",
      "current_acc     object\n",
      "mortgage        object\n",
      "loan            object\n",
      "dtype: object\n"
     ]
    }
   ],
   "source": [
    "# identify datatypes for each column\n",
    "print(dataset.dtypes)"
   ]
  },
  {
   "cell_type": "code",
   "execution_count": 9,
   "metadata": {},
   "outputs": [],
   "source": [
    "# create a copy\n",
    "import copy\n",
    "ds_orig = copy.deepcopy(dataset)"
   ]
  },
  {
   "cell_type": "code",
   "execution_count": 10,
   "metadata": {},
   "outputs": [
    {
     "name": "stdout",
     "output_type": "stream",
     "text": [
      "['id', 'sex', 'region', 'married', 'car', 'saving_acc', 'current_acc', 'mortgage', 'loan']\n"
     ]
    }
   ],
   "source": [
    "#get object type column names\n",
    "obj_cols = list(dataset.select_dtypes(include=['object']).columns.values)\n",
    "print(obj_cols)"
   ]
  },
  {
   "cell_type": "code",
   "execution_count": 11,
   "metadata": {},
   "outputs": [],
   "source": [
    "# Encoding object type to numberic type\n",
    "le = LabelEncoder()\n",
    "for i in obj_cols:\n",
    "    dataset[i] = le.fit_transform(dataset[i])"
   ]
  },
  {
   "cell_type": "code",
   "execution_count": 12,
   "metadata": {},
   "outputs": [
    {
     "name": "stdout",
     "output_type": "stream",
     "text": [
      "id               int64\n",
      "age              int64\n",
      "sex              int64\n",
      "region           int64\n",
      "income         float64\n",
      "married          int64\n",
      "children         int64\n",
      "car              int64\n",
      "saving_acc       int64\n",
      "current_acc      int64\n",
      "mortgage         int64\n",
      "loan             int64\n",
      "dtype: object\n"
     ]
    }
   ],
   "source": [
    "print(dataset.dtypes)"
   ]
  },
  {
   "cell_type": "code",
   "execution_count": 13,
   "metadata": {},
   "outputs": [
    {
     "name": "stdout",
     "output_type": "stream",
     "text": [
      "   id  age  sex  region   income  married  children  car  saving_acc  \\\n",
      "0   0   40    1       3  30085.1        1         3    1           0   \n",
      "1   1   51    0       0  16575.4        1         0    1           1   \n",
      "2   2   23    0       3  20375.4        1         3    0           0   \n",
      "3   3   57    0       1  50576.3        1         0    0           1   \n",
      "4   4   57    0       3  37869.6        1         2    0           1   \n",
      "\n",
      "   current_acc  mortgage  loan  \n",
      "0            1         1     0  \n",
      "1            1         0     0  \n",
      "2            1         0     0  \n",
      "3            0         0     0  \n",
      "4            1         0     1  \n"
     ]
    }
   ],
   "source": [
    "# head\n",
    "print(dataset.head(5))"
   ]
  },
  {
   "cell_type": "code",
   "execution_count": 14,
   "metadata": {},
   "outputs": [
    {
     "data": {
      "text/plain": [
       "<matplotlib.axes._subplots.AxesSubplot at 0x1c1b3d9cf8>"
      ]
     },
     "execution_count": 14,
     "metadata": {},
     "output_type": "execute_result"
    },
    {
     "data": {
      "image/png": "[encoded data removed]",
      "text/plain": [
       "<Figure size 432x288 with 1 Axes>"
      ]
     },
     "metadata": {
      "needs_background": "light"
     },
     "output_type": "display_data"
    }
   ],
   "source": [
    "dataset['income'].hist(bins=50)"
   ]
  },
  {
   "cell_type": "code",
   "execution_count": 15,
   "metadata": {},
   "outputs": [
    {
     "data": {
      "text/plain": [
       "<matplotlib.axes._subplots.AxesSubplot at 0x1c1b429550>"
      ]
     },
     "execution_count": 15,
     "metadata": {},
     "output_type": "execute_result"
    },
    {
     "data": {
      "image/png": "[encoded data removed]",
      "text/plain": [
       "<Figure size 432x288 with 1 Axes>"
      ]
     },
     "metadata": {
      "needs_background": "light"
     },
     "output_type": "display_data"
    }
   ],
   "source": [
    "dataset.boxplot(column='income')"
   ]
  },
  {
   "cell_type": "code",
   "execution_count": 16,
   "metadata": {},
   "outputs": [
    {
     "data": {
      "text/plain": [
       "<matplotlib.axes._subplots.AxesSubplot at 0x1c1b7a40b8>"
      ]
     },
     "execution_count": 16,
     "metadata": {},
     "output_type": "execute_result"
    },
    {
     "data": {
      "image/png": "[encoded data removed]",
      "text/plain": [
       "<Figure size 432x288 with 1 Axes>"
      ]
     },
     "metadata": {
      "needs_background": "light"
     },
     "output_type": "display_data"
    }
   ],
   "source": [
    "dataset.boxplot(column='income', by = 'sex')"
   ]
  },
  {
   "cell_type": "code",
   "execution_count": 17,
   "metadata": {},
   "outputs": [],
   "source": [
    "%%capture\n",
    "# gather features\n",
    "Y = dataset['loan']\n",
    "dataset = dataset.drop(['loan'], axis = 1)\n",
    "features = \"+\".join(dataset.columns)\n",
    "\n",
    "dataset['loan'] = Y\n",
    "\n",
    "# get y and X dataframes based on this regression:\n",
    "y, X = dmatrices('loan ~' + features, dataset, return_type='dataframe')"
   ]
  },
  {
   "cell_type": "code",
   "execution_count": 18,
   "metadata": {},
   "outputs": [
    {
     "data": {
      "text/plain": [
       "loan           1.000000\n",
       "income         0.223735\n",
       "age            0.173311\n",
       "sex            0.048753\n",
       "id             0.029330\n",
       "current_acc    0.028470\n",
       "car            0.020752\n",
       "mortgage      -0.022883\n",
       "region        -0.025578\n",
       "children      -0.057700\n",
       "saving_acc    -0.070263\n",
       "married       -0.187531\n",
       "Name: loan, dtype: float64"
      ]
     },
     "execution_count": 18,
     "metadata": {},
     "output_type": "execute_result"
    }
   ],
   "source": [
    "#correlation of features with dependent field\n",
    "dataset['loan'] = le.fit_transform(dataset['loan'])\n",
    "corr_matrix = dataset.corr()\n",
    "corr_matrix['loan'].sort_values(ascending=False)"
   ]
  },
  {
   "cell_type": "code",
   "execution_count": 19,
   "metadata": {},
   "outputs": [
    {
     "data": {
      "text/plain": [
       "<matplotlib.axes._subplots.AxesSubplot at 0x1c1b9aad68>"
      ]
     },
     "execution_count": 19,
     "metadata": {},
     "output_type": "execute_result"
    },
    {
     "data": {
      "image/png": "[encoded data removed]",
      "text/plain": [
       "<Figure size 432x288 with 2 Axes>"
      ]
     },
     "metadata": {
      "needs_background": "light"
     },
     "output_type": "display_data"
    }
   ],
   "source": [
    "# Create Heatmap\n",
    "sns.heatmap(corr_matrix)"
   ]
  },
  {
   "cell_type": "code",
   "execution_count": 20,
   "metadata": {},
   "outputs": [
    {
     "name": "stdout",
     "output_type": "stream",
     "text": [
      "loan             NO  YES\n",
      "married sex             \n",
      "NO      FEMALE   43   61\n",
      "        MALE     41   58\n",
      "YES     FEMALE  127   68\n",
      "        MALE    115   86\n"
     ]
    }
   ],
   "source": [
    "# trying to identify few relations in data\n",
    "temp = ds_orig.groupby(['married', 'sex', 'loan'])['married'].count().unstack('loan')\n",
    "print(temp)"
   ]
  },
  {
   "cell_type": "code",
   "execution_count": 21,
   "metadata": {},
   "outputs": [
    {
     "data": {
      "text/plain": [
       "<matplotlib.axes._subplots.AxesSubplot at 0x1c1bbcaeb8>"
      ]
     },
     "execution_count": 21,
     "metadata": {},
     "output_type": "execute_result"
    },
    {
     "data": {
      "image/png": "[encoded data removed]",
      "text/plain": [
       "<Figure size 432x288 with 1 Axes>"
      ]
     },
     "metadata": {
      "needs_background": "light"
     },
     "output_type": "display_data"
    }
   ],
   "source": [
    "temp.plot(kind='bar', stacked=True, color=['red','blue'], grid=False)"
   ]
  },
  {
   "cell_type": "code",
   "execution_count": 22,
   "metadata": {},
   "outputs": [
    {
     "name": "stdout",
     "output_type": "stream",
     "text": [
      "Frequency Table for Married:\n",
      "NO     203\n",
      "YES    396\n",
      "Name: married, dtype: int64\n",
      "\n",
      "Probility of getting loan for each Married class:\n",
      "             loan\n",
      "married          \n",
      "NO       0.586207\n",
      "YES      0.388889\n"
     ]
    }
   ],
   "source": [
    "temp1 = ds_orig['married'].value_counts(ascending=True)\n",
    "temp2 = ds_orig.pivot_table(values='loan',\n",
    "index=['married'],aggfunc=\n",
    "                       lambda x: x.map({'YES':1,'NO':0}).mean())\n",
    "print('Frequency Table for Married:') \n",
    "print(temp1)\n",
    "\n",
    "print('\\nProbility of getting loan for each Married class:')\n",
    "print(temp2)"
   ]
  },
  {
   "cell_type": "code",
   "execution_count": 23,
   "metadata": {},
   "outputs": [
    {
     "data": {
      "text/plain": [
       "<matplotlib.axes._subplots.AxesSubplot at 0x1c1bc99588>"
      ]
     },
     "execution_count": 23,
     "metadata": {},
     "output_type": "execute_result"
    },
    {
     "data": {
      "image/png": "[encoded data removed]",
      "text/plain": [
       "<Figure size 1008x288 with 1 Axes>"
      ]
     },
     "metadata": {
      "needs_background": "light"
     },
     "output_type": "display_data"
    }
   ],
   "source": [
    "fig = plt.figure(figsize=(14,4))\n",
    "ax1 = fig.add_subplot(121)\n",
    "ax1.set_xlabel('Marriage Status')\n",
    "ax1.set_ylabel('Count of Applicants')\n",
    "ax1.set_title(\"Applicants by Marriage status\")\n",
    "temp1.plot(kind='bar')"
   ]
  },
  {
   "cell_type": "code",
   "execution_count": 24,
   "metadata": {},
   "outputs": [
    {
     "data": {
      "text/plain": [
       "<matplotlib.axes._subplots.AxesSubplot at 0x1c1bdb6e10>"
      ]
     },
     "execution_count": 24,
     "metadata": {},
     "output_type": "execute_result"
    },
    {
     "data": {
      "image/png": "[encoded data removed]",
      "text/plain": [
       "<Figure size 432x288 with 1 Axes>"
      ]
     },
     "metadata": {
      "needs_background": "light"
     },
     "output_type": "display_data"
    }
   ],
   "source": [
    "#temp3 = pd.crosstab(df['married'], df['loan'])\n",
    "temp3 = ds_orig.groupby(['married','loan'])['married'].count().unstack('loan')\n",
    "temp3.plot(kind='bar', stacked=True, color=['red','blue'], grid=False)"
   ]
  },
  {
   "cell_type": "code",
   "execution_count": 25,
   "metadata": {},
   "outputs": [],
   "source": [
    "# Feature extraction\n",
    "# For each X, calculate VIF and save in dataframe\n",
    "vif = pandas.DataFrame()\n",
    "vif[\"VIF Factor\"] = [variance_inflation_factor(X.values, i) for i in range(X.shape[1])]\n",
    "vif[\"features\"] = X.columns"
   ]
  },
  {
   "cell_type": "code",
   "execution_count": 26,
   "metadata": {},
   "outputs": [
    {
     "name": "stdout",
     "output_type": "stream",
     "text": [
      "    VIF Factor     features\n",
      "0         24.7    Intercept\n",
      "1          1.0           id\n",
      "2          2.4          age\n",
      "3          1.0          sex\n",
      "4          1.0       region\n",
      "5          2.4       income\n",
      "6          1.0      married\n",
      "7          1.0     children\n",
      "8          1.0          car\n",
      "9          1.1   saving_acc\n",
      "10         1.0  current_acc\n",
      "11         1.0     mortgage\n"
     ]
    }
   ],
   "source": [
    "print(vif.round(1))"
   ]
  },
  {
   "cell_type": "code",
   "execution_count": 27,
   "metadata": {},
   "outputs": [],
   "source": [
    "def calculate_vif_(A, thresh=10.0):\n",
    "    features = []\n",
    "    for index, row in A.iterrows():\n",
    "        if(row[0] <= thresh):\n",
    "            features.append(row[1])\n",
    "\n",
    "    print('Remaining variables:')\n",
    "    print(features)\n",
    "    return features"
   ]
  },
  {
   "cell_type": "code",
   "execution_count": 28,
   "metadata": {},
   "outputs": [
    {
     "name": "stdout",
     "output_type": "stream",
     "text": [
      "24.74560103474753\n",
      "Intercept\n"
     ]
    },
    {
     "data": {
      "text/plain": [
       "VIF Factor    None\n",
       "features      None\n",
       "dtype: object"
      ]
     },
     "execution_count": 28,
     "metadata": {},
     "output_type": "execute_result"
    }
   ],
   "source": [
    "vif.apply(lambda x: print(x[0]))"
   ]
  },
  {
   "cell_type": "code",
   "execution_count": 29,
   "metadata": {},
   "outputs": [
    {
     "name": "stdout",
     "output_type": "stream",
     "text": [
      "Remaining variables:\n",
      "['id', 'age', 'sex', 'region', 'income', 'married', 'children', 'car', 'saving_acc', 'current_acc', 'mortgage']\n",
      "['id', 'age', 'sex', 'region', 'income', 'married', 'children', 'car', 'saving_acc', 'current_acc', 'mortgage']\n",
      "11\n"
     ]
    }
   ],
   "source": [
    "feature_list = calculate_vif_(vif)\n",
    "print(feature_list)\n",
    "print(len(feature_list))"
   ]
  },
  {
   "cell_type": "code",
   "execution_count": 30,
   "metadata": {},
   "outputs": [
    {
     "name": "stdout",
     "output_type": "stream",
     "text": [
      "['age', 'sex', 'region', 'income', 'married', 'children', 'saving_acc', 'mortgage']\n"
     ]
    }
   ],
   "source": [
    "# removing id; useless feature\n",
    "feature_list.remove('id')\n",
    "feature_list.remove('current_acc')\n",
    "feature_list.remove('car')\n",
    "print(feature_list)"
   ]
  },
  {
   "cell_type": "code",
   "execution_count": 31,
   "metadata": {},
   "outputs": [
    {
     "name": "stdout",
     "output_type": "stream",
     "text": [
      "   age  sex  region   income  married  children  saving_acc  mortgage\n",
      "0   40    1       3  30085.1        1         3           0         1\n",
      "1   51    0       0  16575.4        1         0           1         0\n",
      "2   23    0       3  20375.4        1         3           0         0\n",
      "3   57    0       1  50576.3        1         0           1         0\n",
      "4   57    0       3  37869.6        1         2           1         0\n"
     ]
    }
   ],
   "source": [
    "new_df = dataset[feature_list]\n",
    "print(new_df.head())"
   ]
  },
  {
   "cell_type": "code",
   "execution_count": 32,
   "metadata": {},
   "outputs": [
    {
     "name": "stdout",
     "output_type": "stream",
     "text": [
      "loan\n",
      "NO     326\n",
      "YES    273\n",
      "dtype: int64\n"
     ]
    }
   ],
   "source": [
    "# class distribution\n",
    "print(ds_orig.groupby('loan').size())\n",
    "%matplotlib inline"
   ]
  },
  {
   "cell_type": "code",
   "execution_count": 33,
   "metadata": {},
   "outputs": [
    {
     "data": {
      "text/plain": [
       "(599, 8)"
      ]
     },
     "execution_count": 33,
     "metadata": {},
     "output_type": "execute_result"
    }
   ],
   "source": [
    "new_df.shape"
   ]
  },
  {
   "cell_type": "code",
   "execution_count": 34,
   "metadata": {},
   "outputs": [],
   "source": [
    "from sklearn import model_selection\n",
    "seed = 5\n",
    "scoring = 'accuracy'\n",
    "X_train, X_test, Y_train, Y_test = model_selection.train_test_split(new_df, Y, test_size=.3,random_state=seed)"
   ]
  },
  {
   "cell_type": "code",
   "execution_count": 35,
   "metadata": {},
   "outputs": [
    {
     "name": "stdout",
     "output_type": "stream",
     "text": [
      "LR: 0.639663 (0.059406)\n",
      "LDA: 0.632520 (0.056116)\n",
      "KNN: 0.589547 (0.048093)\n",
      "CART: 0.830488 (0.055983)\n",
      "NB: 0.661150 (0.064299)\n",
      "SVM: 0.536760 (0.087392)\n"
     ]
    }
   ],
   "source": [
    "# Spot Check Algorithms\n",
    "models = []\n",
    "models.append(('LR', LogisticRegression()))\n",
    "models.append(('LDA', LinearDiscriminantAnalysis()))\n",
    "models.append(('KNN', KNeighborsClassifier()))\n",
    "models.append(('CART', DecisionTreeClassifier()))\n",
    "models.append(('NB', GaussianNB()))\n",
    "models.append(('SVM', SVC()))\n",
    "# evaluate each model in turn\n",
    "results = []\n",
    "names = []\n",
    "for name, model in models:\n",
    "    kfold = model_selection.KFold(n_splits=10, random_state=seed)\n",
    "    cv_results = model_selection.cross_val_score(model, X_train, Y_train, cv=kfold, scoring=scoring)\n",
    "    results.append(cv_results)\n",
    "    names.append(name)\n",
    "    msg = \"%s: %f (%f)\" % (name, cv_results.mean(), cv_results.std())\n",
    "    print(msg)"
   ]
  },
  {
   "cell_type": "code",
   "execution_count": 36,
   "metadata": {},
   "outputs": [
    {
     "name": "stdout",
     "output_type": "stream",
     "text": [
      "0.8166666666666667\n",
      "[[85 15]\n",
      " [18 62]]\n",
      "              precision    recall  f1-score   support\n",
      "\n",
      "           0       0.83      0.85      0.84       100\n",
      "           1       0.81      0.78      0.79        80\n",
      "\n",
      "   micro avg       0.82      0.82      0.82       180\n",
      "   macro avg       0.82      0.81      0.81       180\n",
      "weighted avg       0.82      0.82      0.82       180\n",
      "\n"
     ]
    }
   ],
   "source": [
    "# Make predictions on validation dataset\n",
    "from sklearn import tree\n",
    "knn = tree.DecisionTreeClassifier()\n",
    "knn = knn.fit(X_train, Y_train)\n",
    "predictions = knn.predict(X_test)\n",
    "print(accuracy_score(Y_test, predictions))\n",
    "print(confusion_matrix(Y_test, predictions))\n",
    "print(classification_report(Y_test, predictions))"
   ]
  },
  {
   "cell_type": "code",
   "execution_count": 37,
   "metadata": {},
   "outputs": [],
   "source": [
    "from sklearn.externals.six import StringIO  \n",
    "import pydot\n",
    "\n",
    "import os\n",
    "os.environ[\"PATH\"] += os.pathsep + 'C:/Anaconda3/pkgs/graphviz-2.38.0-4/Library/bin/graphviz'\n",
    "\n",
    "dot_data = StringIO() \n",
    "tree.export_graphviz(knn, out_file=dot_data) \n",
    "graph = pydot.graph_from_dot_data(dot_data.getvalue()) \n",
    "\n",
    "graph[0].write_pdf(\"DecisionTree-loan.pdf\")"
   ]
  }
 ],
 "metadata": {
  "kernelspec": {
   "display_name": "Python 3",
   "language": "python",
   "name": "python3"
  },
  "language_info": {
   "codemirror_mode": {
    "name": "ipython",
    "version": 3
   },
   "file_extension": ".py",
   "mimetype": "text/x-python",
   "name": "python",
   "nbconvert_exporter": "python",
   "pygments_lexer": "ipython3",
   "version": "3.7.1"
  }
 },
 "nbformat": 4,
 "nbformat_minor": 2
}
